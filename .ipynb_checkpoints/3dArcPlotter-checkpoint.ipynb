{
 "cells": [
  {
   "cell_type": "code",
   "execution_count": 1,
   "id": "9994f66b",
   "metadata": {},
   "outputs": [],
   "source": [
    "# draw arc in 3d space\n",
    "# https://www.codementor.io/hirengadhiya/python-matplotlib-plotting-an-arc-in-3d-plot-wor3d4gzg\n",
    "# Callin Switzer\n",
    "# 16 July 2019"
   ]
  },
  {
   "cell_type": "code",
   "execution_count": 2,
   "id": "4ce80241",
   "metadata": {},
   "outputs": [],
   "source": [
    "\n",
    "# imports\n",
    "%matplotlib qt \n",
    "# uncomment above on for interactive plots\n",
    "from mpl_toolkits.mplot3d import Axes3D\n",
    "import numpy as np\n",
    "import matplotlib.pyplot as plt\n",
    "import numpy as np\n",
    "from matplotlib import interactive\n",
    "interactive(True)\n",
    "import math\n",
    "import sys"
   ]
  },
  {
   "cell_type": "code",
   "execution_count": 3,
   "id": "f55240d1",
   "metadata": {},
   "outputs": [],
   "source": [
    "# 3 pts convert to r, theta, phi\n",
    "def points2sphere(p1,p2,p3):\n",
    "    n = np.cross(p1,p2)+np.cross(p2,p3)+np.cross(p3,p1)\n",
    "    n = n / (n**2).sum()**0.5\n",
    "    \n",
    "    u = np.cross((p3-p1),n)\n",
    "    u = u / (u**2).sum()**0.5\n",
    "    v = np.cross(n,u)\n",
    "    v = v / (v**2).sum()**0.5\n",
    "    R = np.vstack((u,v)).transpose()\n",
    "    \n",
    "    d = np.dot(n,p1)\n",
    "    \n",
    "    a = R.transpose()*np.matrix(p1).T\n",
    "    b = R.transpose()*np.matrix(p2).T\n",
    "    c = R.transpose()*np.matrix(p3).T\n",
    "    \n",
    "    \n",
    "    \n",
    "    A = np.matrix([[b[0,0]-a[0,0],b[1,0]-a[1,0]],[c[0,0]-a[0,0],c[1,0]-a[1,0]]])\n",
    "    solut = np.linalg.inv((A))*np.matrix(((b[0,0]**2+b[1,0]**2-a[0,0]**2-a[1,0]**2)/2, \n",
    "                      (c[0,0]**2+c[1,0]**2-a[0,0]**2-a[1,0]**2)/2)).T\n",
    "    \n",
    "    Q1 = np.matrix(n*d)\n",
    "    Q2 = np.matrix(R)*solut\n",
    "    Q = Q1+Q2.T\n",
    "    \n",
    "    #print(p1-Q)\n",
    "    r = np.linalg.norm(p1 - Q)\n",
    "    theta = np.arccos(np.dot((p3-Q),(p1-Q).T)[0,0]/(np.linalg.norm(p1 - Q)*np.linalg.norm(p3 - Q)))\n",
    "    #theta = theta[0,0]\n",
    "    #print(p3-Q)\n",
    "    \n",
    "    phi = np.arccos(abs(n[2]))-np.pi/4\n",
    "    \n",
    "    return(r,theta,phi)"
   ]
  },
  {
   "cell_type": "code",
   "execution_count": 4,
   "id": "9cdea222",
   "metadata": {},
   "outputs": [],
   "source": [
    "# p1 = np.array([0,0,0])\n",
    "# p2 = np.array([1,0,1])\n",
    "# p3 = np.array([0,1,1])\n",
    "\n",
    "# radius1,theta1,phi1 = points2sphere(p1,p2,p3)\n",
    "\n",
    "# print(radius,theta,phi)"
   ]
  },
  {
   "cell_type": "code",
   "execution_count": 5,
   "id": "46d3b4d5",
   "metadata": {},
   "outputs": [],
   "source": [
    "def cart2sphere(x, y, z):\n",
    "    r = np.sqrt(x**2 + y**2 + z**2)\n",
    "    theta = np.arccos(z, r)\n",
    "    phi = np.arctan2(y, x)\n",
    "    return(r, theta, phi)\n",
    "\n",
    "def sphere2cart(r, theta, phi):\n",
    "    theta = theta - np.pi/2\n",
    "    x = r * np.sin(theta)* np.cos(phi)\n",
    "    y = r * np.sin(theta)* np.sin(phi)\n",
    "    z = r * np.cos(theta)\n",
    "    return(x, y, z)\n",
    "\n",
    "def pol2cart(rho, phi):\n",
    "    x = rho * np.cos(phi)\n",
    "    y = rho * np.sin(phi)\n",
    "    return(x, y)\n",
    "\n",
    "def translate(r,theta,phi):\n",
    "    c1 = np.cos(theta)\n",
    "    s1 = np.sin(-theta)\n",
    "    c2 = np.cos(phi)\n",
    "    s2 = np.sin(phi)\n",
    "#     T1 = np.matrix([[c2,-s2,0,0],[s2,c2,0,0],[0,0,1,0],[0,0,0,1]])\n",
    "#     T2 = np.matrix([[1,0,0,r*(c1-1)],[0,c1,-s1,r*s1],[0,s1,c1,0],[0,0,0,1]])\n",
    "#     T3 = np.matrix([[c2,s2,0,0],[-s2,c2,0,0],[0,0,1,0],[0,0,0,1]])\n",
    "#     T = T1*T2*T3\n",
    "    T = np.matrix([[(c2*c2)*(c1-1)+1,s2*c2*(c1-1),-c2*s1,r*c2*(c1-1)],[s2*c2*(c1-1),c2*c2*(1-c1)+c1,-s2*s1,r*s2*(c1-1)],[c2*s1,s2*s1,c1,r*s1],[0,0,0,1]])\n",
    "    return(T)"
   ]
  },
  {
   "cell_type": "code",
   "execution_count": 6,
   "id": "2a867002",
   "metadata": {},
   "outputs": [],
   "source": [
    "# define values \n",
    "theta1 = np.pi/4 # arclength in radians\n",
    "radius1 = 50 # raduis of circle\n",
    "k1 = 1/radius1 # if you want to use k instead of radius\n",
    "phi1 = np.pi*3/5 # angle of circle in xy plane"
   ]
  },
  {
   "cell_type": "code",
   "execution_count": 7,
   "id": "878268a3",
   "metadata": {},
   "outputs": [],
   "source": [
    "# discretize for plotting\n",
    "arcIndex1 = np.linspace(0, theta1, num = 100)\n",
    "X1, Y1, Z1, = sphere2cart(radius1, arcIndex1, phi1)\n",
    "X2, Y2, Z2, = sphere2cart(radius1, arcIndex1, phi1)"
   ]
  },
  {
   "cell_type": "code",
   "execution_count": 8,
   "id": "3b1fb43d",
   "metadata": {},
   "outputs": [],
   "source": [
    "# move center or arc to xy plane\n",
    "x1, y1 = pol2cart(radius1, phi1)\n",
    "X1 += x1\n",
    "Y1 += y1"
   ]
  },
  {
   "cell_type": "code",
   "execution_count": 9,
   "id": "da6ad1d1",
   "metadata": {},
   "outputs": [],
   "source": [
    "#plot rigid connector\n",
    "Rx1 = [X1[-1],X1[-1]+5*np.cos(theta1-np.pi/2)*np.cos(phi1)]\n",
    "Ry1 = [Y1[-1],Y1[-1]+5*np.cos(theta1-np.pi/2)*np.sin(phi1)]\n",
    "Rz1 = [Z1[-1],Z1[-1]-5*np.sin(theta1-np.pi/2)]\n",
    "\n",
    "v_rigid = [5*np.cos(theta1-np.pi/2)*np.cos(phi1),5*np.cos(theta1-np.pi/2)*np.sin(phi1),-5*np.sin(theta1-np.pi/2)]"
   ]
  },
  {
   "cell_type": "code",
   "execution_count": 10,
   "id": "0f66364a",
   "metadata": {},
   "outputs": [
    {
     "name": "stdout",
     "output_type": "stream",
     "text": [
      "(100,)\n",
      "(100,)\n",
      "(100,)\n"
     ]
    }
   ],
   "source": [
    "# rotate the next arc\n",
    "T = translate(radius1,theta1,phi1)\n",
    "print(X2.shape)\n",
    "print(Y2.shape)\n",
    "print(Z2.shape)\n",
    "X2n = np.reshape(np.array(np.transpose((T*np.stack((X2,Y2,Z2,np.ones((100)))))[0])),(100,))\n",
    "Y2n = np.reshape(np.array(np.transpose((T*np.stack((X2,Y2,Z2,np.ones((100)))))[1])),(100,))\n",
    "Z2n = np.reshape(np.array(np.transpose((T*np.stack((X2,Y2,Z2,np.ones((100)))))[2])),(100,))"
   ]
  },
  {
   "cell_type": "code",
   "execution_count": 11,
   "id": "80dce416",
   "metadata": {},
   "outputs": [],
   "source": [
    "# rotate the next arc 2\n",
    "# X2n = X2*np.cos(theta1-np.pi/2)*np.sin(phi1)\n",
    "# Y2n = Y2*np.cos(theta1-np.pi/2)*np.cos(phi1)\n",
    "# Z2n = Z2*np.sin(theta1-np.pi/2)"
   ]
  },
  {
   "cell_type": "code",
   "execution_count": 12,
   "id": "d4cab615",
   "metadata": {},
   "outputs": [],
   "source": [
    "X2n +=x1 +Rx1[-1]\n",
    "Y2n +=y1+Ry1[-1]\n",
    "Z2n +=Rz1[-1]"
   ]
  },
  {
   "cell_type": "code",
   "execution_count": 13,
   "id": "fd5d9296",
   "metadata": {},
   "outputs": [
    {
     "name": "stderr",
     "output_type": "stream",
     "text": [
      "<ipython-input-13-0d0cec8de1ca>:2: MatplotlibDeprecationWarning: Calling gca() with keyword arguments was deprecated in Matplotlib 3.4. Starting two minor releases later, gca() will take no keyword arguments. The gca() function should only be used to get the current axes, or if no axes exist, create new axes with default keyword arguments. To create a new axes with non-default arguments, use plt.axes() or plt.subplot().\n",
      "  ax = fig.gca(projection='3d')\n"
     ]
    }
   ],
   "source": [
    "fig = plt.figure()\n",
    "ax = fig.gca(projection='3d')\n",
    "# plot arc\n",
    "ax.plot(X1, Y1, Z1, label='arc1')\n",
    "ax.plot(Rx1,Ry1,Rz1,label='rigid1')\n",
    "ax.plot(X2n, Y2n, Z2n, label='arc2')\n",
    "\n",
    "# plot axes\n",
    "ax.plot(np.zeros(100), np.zeros(100), np.linspace(-np.max(np.abs(Z1)), np.max(np.abs(Z1)), 100), c= \"black\", alpha = 0.2)\n",
    "ax.plot(np.zeros(100), np.linspace(-np.max(np.abs(Z1)), np.max(np.abs(Z1)), 100), np.zeros(100),  c= \"black\", alpha = 0.2)\n",
    "ax.plot(np.linspace(-np.max(np.abs(Z1)), np.max(np.abs(Z1)), 100), np.zeros(100), np.zeros(100),  c= \"black\", alpha = 0.2)\n",
    "\n",
    "# plot center of circle\n",
    "#ax.scatter(np.array([x1]), np.array([y1]), np.array([0]), c = 'orange', label = \"center\")\n",
    "# ax.scatter(p1[0], p1[1], p1[2], c = 'orange', label = \"p1\")\n",
    "# ax.scatter(p2[0], p2[1], p2[2], c = 'orange', label = \"p2\")\n",
    "# ax.scatter(p3[0], p3[1], p3[2], c = 'orange', label = \"p3\")\n",
    "\n",
    "ax.set_xlabel('x')\n",
    "ax.set_ylabel('y')\n",
    "ax.set_zlabel('z')\n",
    "\n",
    "# #plot start point\n",
    "# ax.scatter(X2n[0], Y2n[0], Z2n[0], c = 'blue', label = \"startpoint\")\n",
    "# #plot endpoint\n",
    "# ax.scatter(X2n[-1], Y2n[-1], Z2n[-1], c = 'red', label = \"endpoint\")\n",
    "\n",
    "#plot start point\n",
    "ax.scatter(Rx1[0], Ry1[0], Rz1[0], c = 'blue', label = \"startpoint\")\n",
    "#plot endpoint\n",
    "ax.scatter(Rx1[1], Ry1[1], Rz1[1], c = 'red', label = \"endpoint\")\n",
    "\n",
    "\n",
    "# plot projection on each axis\n",
    "#ax.plot(X1, np.zeros(len(X1)), np.zeros(len(X1)), color = \"red\", label = \"X projection\")\n",
    "#ax.plot(np.zeros(len(X1)), Y1, np.zeros(len(X1)), color = \"red\", label = \"Y projection\")\n",
    "#ax.plot(np.zeros(len(X1)), np.zeros(len(X1)), Z1, color = \"red\", label = \"Z projection\")\n",
    "\n",
    "ax.legend()\n",
    "plt.show()"
   ]
  },
  {
   "cell_type": "code",
   "execution_count": null,
   "id": "f4189d24",
   "metadata": {},
   "outputs": [],
   "source": []
  }
 ],
 "metadata": {
  "kernelspec": {
   "display_name": "Python 3",
   "language": "python",
   "name": "python3"
  },
  "language_info": {
   "codemirror_mode": {
    "name": "ipython",
    "version": 3
   },
   "file_extension": ".py",
   "mimetype": "text/x-python",
   "name": "python",
   "nbconvert_exporter": "python",
   "pygments_lexer": "ipython3",
   "version": "3.8.10"
  }
 },
 "nbformat": 4,
 "nbformat_minor": 5
}
