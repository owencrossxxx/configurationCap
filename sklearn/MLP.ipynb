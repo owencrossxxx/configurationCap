{
 "cells": [
  {
   "cell_type": "code",
   "execution_count": 1,
   "metadata": {},
   "outputs": [],
   "source": [
    "import pandas as pd\n",
    "import matplotlib.pyplot as plt\n",
    "import numpy as np\n",
    "from mpl_toolkits.mplot3d import Axes3D\n",
    "%matplotlib qt\n",
    "\n",
    "df=pd.read_csv('ProcessedTrain.csv') #importing a dataset\n",
    "#df.shape #inspecting rows and columns dimension of the dataset\n",
    "test = pd.read_csv('ProcessedRandom.csv')\n",
    "#test.shape"
   ]
  },
  {
   "cell_type": "code",
   "execution_count": 2,
   "metadata": {},
   "outputs": [],
   "source": [
    "#df.describe() # this gives basic statistics about the data. \n",
    "# some entries doesn't have the year (the count is lower), cleaning of the data is required"
   ]
  },
  {
   "cell_type": "code",
   "execution_count": 3,
   "metadata": {},
   "outputs": [
    {
     "data": {
      "text/html": [
       "<div>\n",
       "<style scoped>\n",
       "    .dataframe tbody tr th:only-of-type {\n",
       "        vertical-align: middle;\n",
       "    }\n",
       "\n",
       "    .dataframe tbody tr th {\n",
       "        vertical-align: top;\n",
       "    }\n",
       "\n",
       "    .dataframe thead th {\n",
       "        text-align: right;\n",
       "    }\n",
       "</style>\n",
       "<table border=\"1\" class=\"dataframe\">\n",
       "  <thead>\n",
       "    <tr style=\"text-align: right;\">\n",
       "      <th></th>\n",
       "      <th>0</th>\n",
       "      <th>0.1</th>\n",
       "      <th>0.2</th>\n",
       "      <th>1.25</th>\n",
       "      <th>0.350000000000364</th>\n",
       "      <th>-0.799999999999272</th>\n",
       "      <th>1.10000000000036</th>\n",
       "      <th>-0.649999999999636</th>\n",
       "      <th>0.25</th>\n",
       "      <th>-0.5</th>\n",
       "      <th>0.3</th>\n",
       "      <th>-346</th>\n",
       "      <th>0.4</th>\n",
       "    </tr>\n",
       "  </thead>\n",
       "  <tbody>\n",
       "    <tr>\n",
       "      <th>0</th>\n",
       "      <td>0.00</td>\n",
       "      <td>0</td>\n",
       "      <td>0.00</td>\n",
       "      <td>-0.75</td>\n",
       "      <td>-0.65</td>\n",
       "      <td>-0.80</td>\n",
       "      <td>0.10</td>\n",
       "      <td>-0.65</td>\n",
       "      <td>-0.75</td>\n",
       "      <td>0.50</td>\n",
       "      <td>0</td>\n",
       "      <td>-346</td>\n",
       "      <td>0</td>\n",
       "    </tr>\n",
       "    <tr>\n",
       "      <th>1</th>\n",
       "      <td>-0.04</td>\n",
       "      <td>0</td>\n",
       "      <td>0.00</td>\n",
       "      <td>0.25</td>\n",
       "      <td>0.35</td>\n",
       "      <td>0.20</td>\n",
       "      <td>0.10</td>\n",
       "      <td>0.35</td>\n",
       "      <td>0.25</td>\n",
       "      <td>-0.50</td>\n",
       "      <td>-1</td>\n",
       "      <td>-347</td>\n",
       "      <td>0</td>\n",
       "    </tr>\n",
       "    <tr>\n",
       "      <th>2</th>\n",
       "      <td>-0.04</td>\n",
       "      <td>0</td>\n",
       "      <td>0.00</td>\n",
       "      <td>-0.75</td>\n",
       "      <td>0.35</td>\n",
       "      <td>-0.80</td>\n",
       "      <td>0.10</td>\n",
       "      <td>0.35</td>\n",
       "      <td>0.25</td>\n",
       "      <td>-0.50</td>\n",
       "      <td>-1</td>\n",
       "      <td>-346</td>\n",
       "      <td>0</td>\n",
       "    </tr>\n",
       "    <tr>\n",
       "      <th>3</th>\n",
       "      <td>0.00</td>\n",
       "      <td>0</td>\n",
       "      <td>0.00</td>\n",
       "      <td>0.25</td>\n",
       "      <td>0.35</td>\n",
       "      <td>0.20</td>\n",
       "      <td>0.10</td>\n",
       "      <td>-0.65</td>\n",
       "      <td>0.25</td>\n",
       "      <td>0.50</td>\n",
       "      <td>1</td>\n",
       "      <td>-346</td>\n",
       "      <td>0</td>\n",
       "    </tr>\n",
       "    <tr>\n",
       "      <th>4</th>\n",
       "      <td>0.00</td>\n",
       "      <td>0</td>\n",
       "      <td>0.00</td>\n",
       "      <td>-0.75</td>\n",
       "      <td>0.35</td>\n",
       "      <td>0.20</td>\n",
       "      <td>0.10</td>\n",
       "      <td>0.35</td>\n",
       "      <td>0.25</td>\n",
       "      <td>0.50</td>\n",
       "      <td>0</td>\n",
       "      <td>-346</td>\n",
       "      <td>0</td>\n",
       "    </tr>\n",
       "    <tr>\n",
       "      <th>...</th>\n",
       "      <td>...</td>\n",
       "      <td>...</td>\n",
       "      <td>...</td>\n",
       "      <td>...</td>\n",
       "      <td>...</td>\n",
       "      <td>...</td>\n",
       "      <td>...</td>\n",
       "      <td>...</td>\n",
       "      <td>...</td>\n",
       "      <td>...</td>\n",
       "      <td>...</td>\n",
       "      <td>...</td>\n",
       "      <td>...</td>\n",
       "    </tr>\n",
       "    <tr>\n",
       "      <th>8794</th>\n",
       "      <td>3.11</td>\n",
       "      <td>0</td>\n",
       "      <td>17.65</td>\n",
       "      <td>2.25</td>\n",
       "      <td>-12.30</td>\n",
       "      <td>3.25</td>\n",
       "      <td>-8.45</td>\n",
       "      <td>-11.90</td>\n",
       "      <td>4.30</td>\n",
       "      <td>-54.35</td>\n",
       "      <td>-34</td>\n",
       "      <td>-348</td>\n",
       "      <td>35</td>\n",
       "    </tr>\n",
       "    <tr>\n",
       "      <th>8795</th>\n",
       "      <td>3.15</td>\n",
       "      <td>0</td>\n",
       "      <td>18.15</td>\n",
       "      <td>2.25</td>\n",
       "      <td>-12.30</td>\n",
       "      <td>3.25</td>\n",
       "      <td>-7.45</td>\n",
       "      <td>-11.90</td>\n",
       "      <td>4.30</td>\n",
       "      <td>-54.35</td>\n",
       "      <td>-35</td>\n",
       "      <td>-346</td>\n",
       "      <td>33</td>\n",
       "    </tr>\n",
       "    <tr>\n",
       "      <th>8796</th>\n",
       "      <td>2.71</td>\n",
       "      <td>0</td>\n",
       "      <td>18.50</td>\n",
       "      <td>2.25</td>\n",
       "      <td>-12.30</td>\n",
       "      <td>4.25</td>\n",
       "      <td>-7.45</td>\n",
       "      <td>-11.90</td>\n",
       "      <td>4.30</td>\n",
       "      <td>-52.35</td>\n",
       "      <td>-36</td>\n",
       "      <td>-346</td>\n",
       "      <td>33</td>\n",
       "    </tr>\n",
       "    <tr>\n",
       "      <th>8797</th>\n",
       "      <td>2.18</td>\n",
       "      <td>0</td>\n",
       "      <td>18.50</td>\n",
       "      <td>2.25</td>\n",
       "      <td>-12.30</td>\n",
       "      <td>4.25</td>\n",
       "      <td>-7.45</td>\n",
       "      <td>-10.90</td>\n",
       "      <td>5.30</td>\n",
       "      <td>-52.35</td>\n",
       "      <td>-37</td>\n",
       "      <td>-345</td>\n",
       "      <td>32</td>\n",
       "    </tr>\n",
       "    <tr>\n",
       "      <th>8798</th>\n",
       "      <td>1.44</td>\n",
       "      <td>0</td>\n",
       "      <td>18.53</td>\n",
       "      <td>2.25</td>\n",
       "      <td>-12.30</td>\n",
       "      <td>4.25</td>\n",
       "      <td>-7.45</td>\n",
       "      <td>-11.90</td>\n",
       "      <td>6.30</td>\n",
       "      <td>-51.35</td>\n",
       "      <td>-38</td>\n",
       "      <td>-345</td>\n",
       "      <td>31</td>\n",
       "    </tr>\n",
       "  </tbody>\n",
       "</table>\n",
       "<p>8799 rows × 13 columns</p>\n",
       "</div>"
      ],
      "text/plain": [
       "         0  0.1    0.2  1.25  0.350000000000364  -0.799999999999272  \\\n",
       "0     0.00    0   0.00 -0.75              -0.65               -0.80   \n",
       "1    -0.04    0   0.00  0.25               0.35                0.20   \n",
       "2    -0.04    0   0.00 -0.75               0.35               -0.80   \n",
       "3     0.00    0   0.00  0.25               0.35                0.20   \n",
       "4     0.00    0   0.00 -0.75               0.35                0.20   \n",
       "...    ...  ...    ...   ...                ...                 ...   \n",
       "8794  3.11    0  17.65  2.25             -12.30                3.25   \n",
       "8795  3.15    0  18.15  2.25             -12.30                3.25   \n",
       "8796  2.71    0  18.50  2.25             -12.30                4.25   \n",
       "8797  2.18    0  18.50  2.25             -12.30                4.25   \n",
       "8798  1.44    0  18.53  2.25             -12.30                4.25   \n",
       "\n",
       "      1.10000000000036  -0.649999999999636  0.25   -0.5  0.3  -346  0.4  \n",
       "0                 0.10               -0.65 -0.75   0.50    0  -346    0  \n",
       "1                 0.10                0.35  0.25  -0.50   -1  -347    0  \n",
       "2                 0.10                0.35  0.25  -0.50   -1  -346    0  \n",
       "3                 0.10               -0.65  0.25   0.50    1  -346    0  \n",
       "4                 0.10                0.35  0.25   0.50    0  -346    0  \n",
       "...                ...                 ...   ...    ...  ...   ...  ...  \n",
       "8794             -8.45              -11.90  4.30 -54.35  -34  -348   35  \n",
       "8795             -7.45              -11.90  4.30 -54.35  -35  -346   33  \n",
       "8796             -7.45              -11.90  4.30 -52.35  -36  -346   33  \n",
       "8797             -7.45              -10.90  5.30 -52.35  -37  -345   32  \n",
       "8798             -7.45              -11.90  6.30 -51.35  -38  -345   31  \n",
       "\n",
       "[8799 rows x 13 columns]"
      ]
     },
     "execution_count": 3,
     "metadata": {},
     "output_type": "execute_result"
    }
   ],
   "source": [
    "#df.values #is shows the data the first element of the outer array is the array with the data of the first row\n",
    "df"
   ]
  },
  {
   "cell_type": "code",
   "execution_count": 4,
   "metadata": {},
   "outputs": [],
   "source": [
    "# step 2: preparing/cleaning the data (remove duplicates or entries with missing datas)\n",
    "# we split the dataset in input dataset and output dataset for the prediction\n",
    "# cleaning is important to avoid that the model learn bad patterns so remove incomplete,irrelevant,duplicates\n",
    "cols=[0,1,2,10,11,12]\n",
    "X= df.drop(df.columns[cols],axis=1) #input set we obtained from original dropping columns of x,y,z\n",
    "colsout=[0,1,2,3,4,5,6,7,8,9]\n",
    "#colsout=[3,4,5,6,7,8,9]\n",
    "Y= df.drop(df.columns[colsout],axis=1)# output set, we selected only column x,y,z\n",
    "\n",
    "test_X= test.drop(test.columns[cols],axis=1) \n",
    "\n",
    "test_Y= test.drop(test.columns[colsout],axis=1)\n"
   ]
  },
  {
   "cell_type": "code",
   "execution_count": 8,
   "metadata": {},
   "outputs": [
    {
     "name": "stdout",
     "output_type": "stream",
     "text": [
      "model done\n"
     ]
    }
   ],
   "source": [
    "# learning and predicting\n",
    "from sklearn.neural_network import MLPRegressor\n",
    "\n",
    "model = MLPRegressor(hidden_layer_sizes=[60,30],max_iter=2000)\n",
    "#if we don't use training/test in the following cell we use train/test split\n",
    "#model.fit(X,Y)\n",
    "#predictions=model.predict([[9.24,   0,  13.08,  9662,  10139,  9984,  10082,  10611,  10480,  10211]]) #these are unseen data  \n",
    "#predictions\n",
    "print('model done')"
   ]
  },
  {
   "cell_type": "code",
   "execution_count": 9,
   "metadata": {},
   "outputs": [
    {
     "data": {
      "text/plain": [
       "(0.9652434112246285, 1.3208268918475046, 3.3125915496592726)"
      ]
     },
     "execution_count": 9,
     "metadata": {},
     "output_type": "execute_result"
    }
   ],
   "source": [
    "# step 4: calculating accuracy\n",
    "from sklearn.model_selection import train_test_split\n",
    "from sklearn.metrics import accuracy_score, explained_variance_score, mean_absolute_error, mean_squared_error\n",
    "\n",
    "X_train, X_test, Y_train, Y_test = train_test_split(X,Y, test_size=0.10) #20% data for testing this value is important\n",
    "# and the percentage we select affect the accuracy of the prediction, so the more data we give for training, the better \n",
    "# in general\n",
    "model.fit(X_train,Y_train)\n",
    "predictions=model.predict(X_test)\n",
    "\n",
    "#score = accuracy_score(Y_test,predictions) #value between 0 to 1 if we run this code many times we have different \n",
    "# because train_test_split randomically select the data for split and test every time, this happens because we don't \n",
    "# have enough data, this does not support multilable- multioutput\n",
    "\n",
    "score = explained_variance_score(Y_test,predictions)\n",
    "mae= mean_absolute_error(Y_test,predictions)\n",
    "mse= mean_squared_error(Y_test,predictions)\n",
    "\n",
    "score, mae, mse\n",
    "\n",
    "\n",
    "\n"
   ]
  },
  {
   "cell_type": "code",
   "execution_count": 10,
   "metadata": {},
   "outputs": [
    {
     "data": {
      "text/html": [
       "<div>\n",
       "<style scoped>\n",
       "    .dataframe tbody tr th:only-of-type {\n",
       "        vertical-align: middle;\n",
       "    }\n",
       "\n",
       "    .dataframe tbody tr th {\n",
       "        vertical-align: top;\n",
       "    }\n",
       "\n",
       "    .dataframe thead th {\n",
       "        text-align: right;\n",
       "    }\n",
       "</style>\n",
       "<table border=\"1\" class=\"dataframe\">\n",
       "  <thead>\n",
       "    <tr style=\"text-align: right;\">\n",
       "      <th></th>\n",
       "      <th>0.3</th>\n",
       "      <th>-346</th>\n",
       "      <th>0.4</th>\n",
       "    </tr>\n",
       "  </thead>\n",
       "  <tbody>\n",
       "    <tr>\n",
       "      <th>4082</th>\n",
       "      <td>12</td>\n",
       "      <td>-361</td>\n",
       "      <td>50</td>\n",
       "    </tr>\n",
       "    <tr>\n",
       "      <th>8148</th>\n",
       "      <td>10</td>\n",
       "      <td>-352</td>\n",
       "      <td>19</td>\n",
       "    </tr>\n",
       "    <tr>\n",
       "      <th>8659</th>\n",
       "      <td>-31</td>\n",
       "      <td>-349</td>\n",
       "      <td>40</td>\n",
       "    </tr>\n",
       "    <tr>\n",
       "      <th>6787</th>\n",
       "      <td>-1</td>\n",
       "      <td>-358</td>\n",
       "      <td>48</td>\n",
       "    </tr>\n",
       "    <tr>\n",
       "      <th>6523</th>\n",
       "      <td>-6</td>\n",
       "      <td>-356</td>\n",
       "      <td>37</td>\n",
       "    </tr>\n",
       "    <tr>\n",
       "      <th>...</th>\n",
       "      <td>...</td>\n",
       "      <td>...</td>\n",
       "      <td>...</td>\n",
       "    </tr>\n",
       "    <tr>\n",
       "      <th>5747</th>\n",
       "      <td>-4</td>\n",
       "      <td>-352</td>\n",
       "      <td>17</td>\n",
       "    </tr>\n",
       "    <tr>\n",
       "      <th>1443</th>\n",
       "      <td>-21</td>\n",
       "      <td>-348</td>\n",
       "      <td>16</td>\n",
       "    </tr>\n",
       "    <tr>\n",
       "      <th>3928</th>\n",
       "      <td>14</td>\n",
       "      <td>-361</td>\n",
       "      <td>48</td>\n",
       "    </tr>\n",
       "    <tr>\n",
       "      <th>4001</th>\n",
       "      <td>-24</td>\n",
       "      <td>-348</td>\n",
       "      <td>17</td>\n",
       "    </tr>\n",
       "    <tr>\n",
       "      <th>6634</th>\n",
       "      <td>7</td>\n",
       "      <td>-359</td>\n",
       "      <td>49</td>\n",
       "    </tr>\n",
       "  </tbody>\n",
       "</table>\n",
       "<p>880 rows × 3 columns</p>\n",
       "</div>"
      ],
      "text/plain": [
       "      0.3  -346  0.4\n",
       "4082   12  -361   50\n",
       "8148   10  -352   19\n",
       "8659  -31  -349   40\n",
       "6787   -1  -358   48\n",
       "6523   -6  -356   37\n",
       "...   ...   ...  ...\n",
       "5747   -4  -352   17\n",
       "1443  -21  -348   16\n",
       "3928   14  -361   48\n",
       "4001  -24  -348   17\n",
       "6634    7  -359   49\n",
       "\n",
       "[880 rows x 3 columns]"
      ]
     },
     "execution_count": 10,
     "metadata": {},
     "output_type": "execute_result"
    }
   ],
   "source": [
    "Y_test"
   ]
  },
  {
   "cell_type": "code",
   "execution_count": 11,
   "metadata": {},
   "outputs": [
    {
     "name": "stderr",
     "output_type": "stream",
     "text": [
      "<ipython-input-11-1ec271baa61a>:3: MatplotlibDeprecationWarning: Axes3D(fig) adding itself to the figure is deprecated since 3.4. Pass the keyword argument auto_add_to_figure=False and use fig.add_axes(ax) to suppress this warning. The default value of auto_add_to_figure will change to False in mpl3.5 and True values will no longer work in 3.6.  This is consistent with other Axes classes.\n",
      "  ax = Axes3D(fig)\n"
     ]
    },
    {
     "data": {
      "text/plain": [
       "<mpl_toolkits.mplot3d.art3d.Path3DCollection at 0x7f80cc25d4f0>"
      ]
     },
     "execution_count": 11,
     "metadata": {},
     "output_type": "execute_result"
    }
   ],
   "source": [
    "fig = plt.figure()\n",
    "\n",
    "ax = Axes3D(fig)\n",
    "\n",
    "ax.scatter(predictions[:,0],predictions[:,1],predictions[:,2])\n",
    "ax.scatter(np.array(Y_test)[:,0],np.array(Y_test)[:,1],np.array(Y_test)[:,2])"
   ]
  },
  {
   "cell_type": "code",
   "execution_count": 21,
   "metadata": {},
   "outputs": [
    {
     "data": {
      "text/plain": [
       "['mlp.joblib']"
      ]
     },
     "execution_count": 21,
     "metadata": {},
     "output_type": "execute_result"
    }
   ],
   "source": [
    "# PERSISTENCE : Store the model because we don't want to train a model all the time\n",
    "import joblib #for saving models\n",
    "joblib.dump(model, 'mlp.joblib')"
   ]
  },
  {
   "cell_type": "code",
   "execution_count": 22,
   "metadata": {},
   "outputs": [
    {
     "data": {
      "text/plain": [
       "array([[ 1.12817619e+00, -3.46296096e+02,  1.04157443e+00],\n",
       "       [ 1.25896162e+00, -3.48097149e+02,  2.40816950e-01],\n",
       "       [-2.06412917e+00, -3.46420779e+02, -1.13253179e+00],\n",
       "       ...,\n",
       "       [-1.52288111e+01, -3.50881204e+02,  2.62393318e+01],\n",
       "       [-8.24899767e+00, -3.52733675e+02,  2.68553977e+01],\n",
       "       [-1.15892370e+01, -3.51730985e+02,  2.59033438e+01]])"
      ]
     },
     "execution_count": 22,
     "metadata": {},
     "output_type": "execute_result"
    }
   ],
   "source": [
    "joblib.load('sensor_angle_model.joblib')\n",
    "#predictions=model.predict([[9.24,   0,  13.08,  9662,  10139,  9984,  10082,  10611,  10480,  10211]])\n",
    "predictions=model.predict(test_X)\n",
    "predictions"
   ]
  },
  {
   "cell_type": "code",
   "execution_count": 14,
   "metadata": {
    "scrolled": true
   },
   "outputs": [
    {
     "data": {
      "text/plain": [
       "Text(0, 0.5, 'x (mm)')"
      ]
     },
     "execution_count": 14,
     "metadata": {},
     "output_type": "execute_result"
    }
   ],
   "source": [
    "plt.plot(predictions[:,0])\n",
    "plt.plot(np.array(test_Y)[:,0])\n",
    "plt.ylabel('x (mm)')"
   ]
  },
  {
   "cell_type": "code",
   "execution_count": 15,
   "metadata": {},
   "outputs": [
    {
     "data": {
      "text/plain": [
       "(0.8757737574064187, 3.1112222238330816, 15.550994787387813)"
      ]
     },
     "execution_count": 15,
     "metadata": {},
     "output_type": "execute_result"
    }
   ],
   "source": [
    "score = explained_variance_score(np.array(test_Y)[:,0],predictions[:,0])\n",
    "mae= mean_absolute_error(np.array(test_Y)[:,0],predictions[:,0])\n",
    "mse= mean_squared_error(np.array(test_Y)[:,0],predictions[:,0])\n",
    "\n",
    "score, mae, mse"
   ]
  },
  {
   "cell_type": "code",
   "execution_count": 16,
   "metadata": {},
   "outputs": [
    {
     "data": {
      "text/plain": [
       "Text(0, 0.5, 'y (mm)')"
      ]
     },
     "execution_count": 16,
     "metadata": {},
     "output_type": "execute_result"
    }
   ],
   "source": [
    "plt.plot(predictions[:,1])\n",
    "plt.plot(np.array(test_Y)[:,1])\n",
    "plt.ylabel('y (mm)')"
   ]
  },
  {
   "cell_type": "code",
   "execution_count": 17,
   "metadata": {},
   "outputs": [
    {
     "data": {
      "text/plain": [
       "(0.8203228199322474, 0.8368985054148094, 1.0644924181766484)"
      ]
     },
     "execution_count": 17,
     "metadata": {},
     "output_type": "execute_result"
    }
   ],
   "source": [
    "score = explained_variance_score(np.array(test_Y)[:,1],predictions[:,1])\n",
    "mae= mean_absolute_error(np.array(test_Y)[:,1],predictions[:,1])\n",
    "mse= mean_squared_error(np.array(test_Y)[:,1],predictions[:,1])\n",
    "\n",
    "score, mae, mse"
   ]
  },
  {
   "cell_type": "code",
   "execution_count": 18,
   "metadata": {},
   "outputs": [
    {
     "data": {
      "text/plain": [
       "Text(0, 0.5, 'z (mm)')"
      ]
     },
     "execution_count": 18,
     "metadata": {},
     "output_type": "execute_result"
    }
   ],
   "source": [
    "plt.plot(predictions[:,2])\n",
    "plt.plot(np.array(test_Y)[:,2])\n",
    "plt.ylabel('z (mm)')"
   ]
  },
  {
   "cell_type": "code",
   "execution_count": 19,
   "metadata": {},
   "outputs": [
    {
     "data": {
      "text/plain": [
       "(0.9390603197189478, 2.644478532770556, 9.74835349054433)"
      ]
     },
     "execution_count": 19,
     "metadata": {},
     "output_type": "execute_result"
    }
   ],
   "source": [
    "score = explained_variance_score(np.array(test_Y)[:,2],predictions[:,2])\n",
    "mae= mean_absolute_error(np.array(test_Y)[:,2],predictions[:,2])\n",
    "mse= mean_squared_error(np.array(test_Y)[:,2],predictions[:,2])\n",
    "\n",
    "score, mae, mse"
   ]
  },
  {
   "cell_type": "code",
   "execution_count": 20,
   "metadata": {},
   "outputs": [
    {
     "name": "stderr",
     "output_type": "stream",
     "text": [
      "<ipython-input-20-59d7a2ea9c89>:3: MatplotlibDeprecationWarning: Axes3D(fig) adding itself to the figure is deprecated since 3.4. Pass the keyword argument auto_add_to_figure=False and use fig.add_axes(ax) to suppress this warning. The default value of auto_add_to_figure will change to False in mpl3.5 and True values will no longer work in 3.6.  This is consistent with other Axes classes.\n",
      "  ax = Axes3D(fig)\n"
     ]
    },
    {
     "data": {
      "text/plain": [
       "<mpl_toolkits.mplot3d.art3d.Path3DCollection at 0x7f80cb6cf580>"
      ]
     },
     "execution_count": 20,
     "metadata": {},
     "output_type": "execute_result"
    }
   ],
   "source": [
    "fig = plt.figure()\n",
    "\n",
    "ax = Axes3D(fig)\n",
    "\n",
    "ax.scatter(predictions[:,0],predictions[:,1],predictions[:,2],color = 'blue')\n",
    "ax.scatter(np.array(test_Y)[:,0],np.array(test_Y)[:,1],np.array(test_Y)[:,2],color = 'red')"
   ]
  },
  {
   "cell_type": "code",
   "execution_count": null,
   "metadata": {},
   "outputs": [],
   "source": []
  }
 ],
 "metadata": {
  "kernelspec": {
   "display_name": "Python 3",
   "language": "python",
   "name": "python3"
  },
  "language_info": {
   "codemirror_mode": {
    "name": "ipython",
    "version": 3
   },
   "file_extension": ".py",
   "mimetype": "text/x-python",
   "name": "python",
   "nbconvert_exporter": "python",
   "pygments_lexer": "ipython3",
   "version": "3.8.10"
  }
 },
 "nbformat": 4,
 "nbformat_minor": 4
}
